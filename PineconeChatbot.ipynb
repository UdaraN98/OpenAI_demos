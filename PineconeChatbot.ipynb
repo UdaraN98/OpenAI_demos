{
  "nbformat": 4,
  "nbformat_minor": 0,
  "metadata": {
    "colab": {
      "provenance": [],
      "include_colab_link": true
    },
    "kernelspec": {
      "name": "python3",
      "display_name": "Python 3"
    },
    "language_info": {
      "name": "python"
    }
  },
  "cells": [
    {
      "cell_type": "markdown",
      "metadata": {
        "id": "view-in-github",
        "colab_type": "text"
      },
      "source": [
        "<a href=\"https://colab.research.google.com/github/UdaraN98/OpenAI_demos/blob/main/PineconeChatbot.ipynb\" target=\"_parent\"><img src=\"https://colab.research.google.com/assets/colab-badge.svg\" alt=\"Open In Colab\"/></a>"
      ]
    },
    {
      "cell_type": "code",
      "execution_count": null,
      "metadata": {
        "id": "JWRcWCzjG-Qp"
      },
      "outputs": [],
      "source": [
        "!pip install pinecone-client"
      ]
    },
    {
      "cell_type": "code",
      "source": [
        "!pip install openai"
      ],
      "metadata": {
        "id": "NumQEfZnH3Si"
      },
      "execution_count": null,
      "outputs": []
    },
    {
      "cell_type": "code",
      "source": [
        "import os\n",
        "import openai\n",
        "import json\n",
        "import numpy as np\n",
        "from numpy.linalg import norm\n",
        "import re\n",
        "from time import time,sleep\n",
        "from uuid import uuid4\n",
        "import datetime\n",
        "import pinecone"
      ],
      "metadata": {
        "id": "f13ZAW8OIc_w"
      },
      "execution_count": null,
      "outputs": []
    },
    {
      "cell_type": "code",
      "source": [
        "#functions\n",
        "\n",
        "def open_file(filepath):\n",
        "    with open(filepath, 'r', encoding='utf-8') as infile:\n",
        "        return infile.read()\n",
        "\n",
        "\n",
        "def save_file(filepath, content):\n",
        "    with open(filepath, 'w', encoding='utf-8') as outfile:\n",
        "        outfile.write(content)\n",
        "\n",
        "\n",
        "def load_json(filepath):\n",
        "    with open(filepath, 'r', encoding='utf-8') as infile:\n",
        "        return json.load(infile)\n",
        "\n",
        "\n",
        "def save_json(filepath, payload):\n",
        "    with open(filepath, 'w', encoding='utf-8') as outfile:\n",
        "        json.dump(payload, outfile, ensure_ascii=False, sort_keys=True, indent=2)\n",
        "\n",
        "\n",
        "def timestamp_to_datetime(unix_time):\n",
        "    return datetime.datetime.fromtimestamp(unix_time).strftime(\"%A, %B %d, %Y at %I:%M%p %Z\")\n",
        "\n",
        "\n",
        "def gpt3_embedding(content, engine='text-embedding-ada-002'):\n",
        "    content = content.encode(encoding='ASCII',errors='ignore').decode()  # fix any UNICODE errors\n",
        "    response = openai.Embedding.create(input=content,engine=engine)\n",
        "    vector = response['data'][0]['embedding']  # this is a normal list\n",
        "    return vector\n",
        "\n",
        "\n",
        "\n",
        "def gpt3_completion(prompt, engine='text-davinci-003', temp=0.0, top_p=1.0, tokens=400, freq_pen=0.0, pres_pen=0.0, stop=['USER:', 'RAVEN:']):\n",
        "    max_retry = 5\n",
        "    retry = 0\n",
        "    prompt = prompt.encode(encoding='ASCII',errors='ignore').decode()\n",
        "    while True:\n",
        "        try:\n",
        "            response = openai.Completion.create(\n",
        "                engine=engine,\n",
        "                prompt=prompt,\n",
        "                temperature=temp,\n",
        "                max_tokens=tokens,\n",
        "                top_p=top_p,\n",
        "                frequency_penalty=freq_pen,\n",
        "                presence_penalty=pres_pen,\n",
        "                stop=stop)\n",
        "            text = response['choices'][0]['text'].strip()\n",
        "            text = re.sub('[\\r\\n]+', '\\n', text)\n",
        "            text = re.sub('[\\t ]+', ' ', text)\n",
        "            filename = '%s_gpt3.txt' % time()\n",
        "            if not os.path.exists('gpt3_logs'):\n",
        "                os.makedirs('gpt3_logs')\n",
        "            save_file('gpt3_logs/%s' % filename, prompt + '\\n\\n==========\\n\\n' + text)\n",
        "            return text\n",
        "        except Exception as oops:\n",
        "            retry += 1\n",
        "            if retry >= max_retry:\n",
        "                return \"GPT3 error: %s\" % oops\n",
        "            print('Error communicating with OpenAI:', oops)\n",
        "            sleep(1)\n",
        "\n",
        "\n",
        "def load_conversation(results):\n",
        "    result = list()\n",
        "    for m in results['matches']:\n",
        "        info = load_json('nexus/%s.json' % m['id'])\n",
        "        result.append(info)\n",
        "    ordered = sorted(result, key=lambda d: d['time'], reverse=False)  # sort them all chronologically\n",
        "    messages = [i['message'] for i in ordered]\n",
        "    return '\\n'.join(messages).strip()"
      ],
      "metadata": {
        "id": "JwChXNuqJ1Dw"
      },
      "execution_count": null,
      "outputs": []
    },
    {
      "cell_type": "code",
      "source": [
        "!python chat2.py\n",
        "\n"
      ],
      "metadata": {
        "id": "GZ1t1KDzKw-P"
      },
      "execution_count": null,
      "outputs": []
    }
  ]
}